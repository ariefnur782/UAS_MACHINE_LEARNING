{
 "cells": [
  {
   "cell_type": "code",
   "execution_count": 1,
   "id": "d11a3cfa",
   "metadata": {
    "_cell_guid": "b1076dfc-b9ad-4769-8c92-a6c4dae69d19",
    "_uuid": "8f2839f25d086af736a60e9eeb907d3b93b6e0e5",
    "execution": {
     "iopub.execute_input": "2021-10-11T13:24:34.322135Z",
     "iopub.status.busy": "2021-10-11T13:24:34.321304Z",
     "iopub.status.idle": "2021-10-11T13:24:34.333420Z",
     "shell.execute_reply": "2021-10-11T13:24:34.333915Z",
     "shell.execute_reply.started": "2021-10-11T13:13:45.689586Z"
    },
    "papermill": {
     "duration": 0.043254,
     "end_time": "2021-10-11T13:24:34.334211",
     "exception": false,
     "start_time": "2021-10-11T13:24:34.290957",
     "status": "completed"
    },
    "tags": []
   },
   "outputs": [
    {
     "name": "stdout",
     "output_type": "stream",
     "text": [
      "/kaggle/input/gold-price-data/gld_price_data.csv\n"
     ]
    }
   ],
   "source": [
    "# This Python 3 environment comes with many helpful analytics libraries installed\n",
    "# It is defined by the kaggle/python Docker image: https://github.com/kaggle/docker-python\n",
    "# For example, here's several helpful packages to load\n",
    "\n",
    "import numpy as np # linear algebra\n",
    "import pandas as pd # data processing, CSV file I/O (e.g. pd.read_csv)\n",
    "\n",
    "# Input data files are available in the read-only \"../input/\" directory\n",
    "# For example, running this (by clicking run or pressing Shift+Enter) will list all files under the input directory\n",
    "\n",
    "import os\n",
    "for dirname, _, filenames in os.walk('/kaggle/input'):\n",
    "    for filename in filenames:\n",
    "        print(os.path.join(dirname, filename))\n",
    "\n",
    "# You can write up to 20GB to the current directory (/kaggle/working/) that gets preserved as output when you create a version using \"Save & Run All\" \n",
    "# You can also write temporary files to /kaggle/temp/, but they won't be saved outside of the current session"
   ]
  },
  {
   "cell_type": "code",
   "execution_count": 2,
   "id": "07db9e37",
   "metadata": {
    "execution": {
     "iopub.execute_input": "2021-10-11T13:24:34.368140Z",
     "iopub.status.busy": "2021-10-11T13:24:34.367342Z",
     "iopub.status.idle": "2021-10-11T13:24:35.640022Z",
     "shell.execute_reply": "2021-10-11T13:24:35.639447Z",
     "shell.execute_reply.started": "2021-10-11T13:13:45.726598Z"
    },
    "papermill": {
     "duration": 1.291431,
     "end_time": "2021-10-11T13:24:35.640172",
     "exception": false,
     "start_time": "2021-10-11T13:24:34.348741",
     "status": "completed"
    },
    "tags": []
   },
   "outputs": [],
   "source": [
    "import numpy as np\n",
    "import pandas as pd\n",
    "import matplotlib.pyplot as plt\n",
    "import seaborn as sns \n",
    "from sklearn.model_selection import train_test_split\n",
    "from sklearn.ensemble import RandomForestRegressor\n",
    "from sklearn import metrics"
   ]
  },
  {
   "cell_type": "code",
   "execution_count": 3,
   "id": "02e077cc",
   "metadata": {
    "execution": {
     "iopub.execute_input": "2021-10-11T13:24:35.673333Z",
     "iopub.status.busy": "2021-10-11T13:24:35.671257Z",
     "iopub.status.idle": "2021-10-11T13:24:35.707379Z",
     "shell.execute_reply": "2021-10-11T13:24:35.707839Z",
     "shell.execute_reply.started": "2021-10-11T13:13:46.987033Z"
    },
    "papermill": {
     "duration": 0.053673,
     "end_time": "2021-10-11T13:24:35.708004",
     "exception": false,
     "start_time": "2021-10-11T13:24:35.654331",
     "status": "completed"
    },
    "tags": []
   },
   "outputs": [
    {
     "data": {
      "text/html": [
       "<div>\n",
       "<style scoped>\n",
       "    .dataframe tbody tr th:only-of-type {\n",
       "        vertical-align: middle;\n",
       "    }\n",
       "\n",
       "    .dataframe tbody tr th {\n",
       "        vertical-align: top;\n",
       "    }\n",
       "\n",
       "    .dataframe thead th {\n",
       "        text-align: right;\n",
       "    }\n",
       "</style>\n",
       "<table border=\"1\" class=\"dataframe\">\n",
       "  <thead>\n",
       "    <tr style=\"text-align: right;\">\n",
       "      <th></th>\n",
       "      <th>Date</th>\n",
       "      <th>SPX</th>\n",
       "      <th>GLD</th>\n",
       "      <th>USO</th>\n",
       "      <th>SLV</th>\n",
       "      <th>EUR/USD</th>\n",
       "    </tr>\n",
       "  </thead>\n",
       "  <tbody>\n",
       "    <tr>\n",
       "      <th>0</th>\n",
       "      <td>1/2/2008</td>\n",
       "      <td>1447.160034</td>\n",
       "      <td>84.860001</td>\n",
       "      <td>78.470001</td>\n",
       "      <td>15.180</td>\n",
       "      <td>1.471692</td>\n",
       "    </tr>\n",
       "    <tr>\n",
       "      <th>1</th>\n",
       "      <td>1/3/2008</td>\n",
       "      <td>1447.160034</td>\n",
       "      <td>85.570000</td>\n",
       "      <td>78.370003</td>\n",
       "      <td>15.285</td>\n",
       "      <td>1.474491</td>\n",
       "    </tr>\n",
       "    <tr>\n",
       "      <th>2</th>\n",
       "      <td>1/4/2008</td>\n",
       "      <td>1411.630005</td>\n",
       "      <td>85.129997</td>\n",
       "      <td>77.309998</td>\n",
       "      <td>15.167</td>\n",
       "      <td>1.475492</td>\n",
       "    </tr>\n",
       "    <tr>\n",
       "      <th>3</th>\n",
       "      <td>1/7/2008</td>\n",
       "      <td>1416.180054</td>\n",
       "      <td>84.769997</td>\n",
       "      <td>75.500000</td>\n",
       "      <td>15.053</td>\n",
       "      <td>1.468299</td>\n",
       "    </tr>\n",
       "    <tr>\n",
       "      <th>4</th>\n",
       "      <td>1/8/2008</td>\n",
       "      <td>1390.189941</td>\n",
       "      <td>86.779999</td>\n",
       "      <td>76.059998</td>\n",
       "      <td>15.590</td>\n",
       "      <td>1.557099</td>\n",
       "    </tr>\n",
       "  </tbody>\n",
       "</table>\n",
       "</div>"
      ],
      "text/plain": [
       "       Date          SPX        GLD        USO     SLV   EUR/USD\n",
       "0  1/2/2008  1447.160034  84.860001  78.470001  15.180  1.471692\n",
       "1  1/3/2008  1447.160034  85.570000  78.370003  15.285  1.474491\n",
       "2  1/4/2008  1411.630005  85.129997  77.309998  15.167  1.475492\n",
       "3  1/7/2008  1416.180054  84.769997  75.500000  15.053  1.468299\n",
       "4  1/8/2008  1390.189941  86.779999  76.059998  15.590  1.557099"
      ]
     },
     "execution_count": 3,
     "metadata": {},
     "output_type": "execute_result"
    }
   ],
   "source": [
    "emas = pd.read_csv('/kaggle/input/gold-price-data/gld_price_data.csv')\n",
    "emas.head()"
   ]
  },
  {
   "cell_type": "code",
   "execution_count": 4,
   "id": "012f726a",
   "metadata": {
    "execution": {
     "iopub.execute_input": "2021-10-11T13:24:35.748647Z",
     "iopub.status.busy": "2021-10-11T13:24:35.739991Z",
     "iopub.status.idle": "2021-10-11T13:24:35.752445Z",
     "shell.execute_reply": "2021-10-11T13:24:35.751857Z",
     "shell.execute_reply.started": "2021-10-11T13:13:47.029107Z"
    },
    "papermill": {
     "duration": 0.030175,
     "end_time": "2021-10-11T13:24:35.752580",
     "exception": false,
     "start_time": "2021-10-11T13:24:35.722405",
     "status": "completed"
    },
    "tags": []
   },
   "outputs": [
    {
     "data": {
      "text/html": [
       "<div>\n",
       "<style scoped>\n",
       "    .dataframe tbody tr th:only-of-type {\n",
       "        vertical-align: middle;\n",
       "    }\n",
       "\n",
       "    .dataframe tbody tr th {\n",
       "        vertical-align: top;\n",
       "    }\n",
       "\n",
       "    .dataframe thead th {\n",
       "        text-align: right;\n",
       "    }\n",
       "</style>\n",
       "<table border=\"1\" class=\"dataframe\">\n",
       "  <thead>\n",
       "    <tr style=\"text-align: right;\">\n",
       "      <th></th>\n",
       "      <th>Date</th>\n",
       "      <th>SPX</th>\n",
       "      <th>GLD</th>\n",
       "      <th>USO</th>\n",
       "      <th>SLV</th>\n",
       "      <th>EUR/USD</th>\n",
       "    </tr>\n",
       "  </thead>\n",
       "  <tbody>\n",
       "    <tr>\n",
       "      <th>2285</th>\n",
       "      <td>5/8/2018</td>\n",
       "      <td>2671.919922</td>\n",
       "      <td>124.589996</td>\n",
       "      <td>14.0600</td>\n",
       "      <td>15.5100</td>\n",
       "      <td>1.186789</td>\n",
       "    </tr>\n",
       "    <tr>\n",
       "      <th>2286</th>\n",
       "      <td>5/9/2018</td>\n",
       "      <td>2697.790039</td>\n",
       "      <td>124.330002</td>\n",
       "      <td>14.3700</td>\n",
       "      <td>15.5300</td>\n",
       "      <td>1.184722</td>\n",
       "    </tr>\n",
       "    <tr>\n",
       "      <th>2287</th>\n",
       "      <td>5/10/2018</td>\n",
       "      <td>2723.070068</td>\n",
       "      <td>125.180000</td>\n",
       "      <td>14.4100</td>\n",
       "      <td>15.7400</td>\n",
       "      <td>1.191753</td>\n",
       "    </tr>\n",
       "    <tr>\n",
       "      <th>2288</th>\n",
       "      <td>5/14/2018</td>\n",
       "      <td>2730.129883</td>\n",
       "      <td>124.489998</td>\n",
       "      <td>14.3800</td>\n",
       "      <td>15.5600</td>\n",
       "      <td>1.193118</td>\n",
       "    </tr>\n",
       "    <tr>\n",
       "      <th>2289</th>\n",
       "      <td>5/16/2018</td>\n",
       "      <td>2725.780029</td>\n",
       "      <td>122.543800</td>\n",
       "      <td>14.4058</td>\n",
       "      <td>15.4542</td>\n",
       "      <td>1.182033</td>\n",
       "    </tr>\n",
       "  </tbody>\n",
       "</table>\n",
       "</div>"
      ],
      "text/plain": [
       "           Date          SPX         GLD      USO      SLV   EUR/USD\n",
       "2285   5/8/2018  2671.919922  124.589996  14.0600  15.5100  1.186789\n",
       "2286   5/9/2018  2697.790039  124.330002  14.3700  15.5300  1.184722\n",
       "2287  5/10/2018  2723.070068  125.180000  14.4100  15.7400  1.191753\n",
       "2288  5/14/2018  2730.129883  124.489998  14.3800  15.5600  1.193118\n",
       "2289  5/16/2018  2725.780029  122.543800  14.4058  15.4542  1.182033"
      ]
     },
     "execution_count": 4,
     "metadata": {},
     "output_type": "execute_result"
    }
   ],
   "source": [
    "emas.tail()"
   ]
  },
  {
   "cell_type": "code",
   "execution_count": 5,
   "id": "75560640",
   "metadata": {
    "execution": {
     "iopub.execute_input": "2021-10-11T13:24:35.788453Z",
     "iopub.status.busy": "2021-10-11T13:24:35.787475Z",
     "iopub.status.idle": "2021-10-11T13:24:35.790657Z",
     "shell.execute_reply": "2021-10-11T13:24:35.791185Z",
     "shell.execute_reply.started": "2021-10-11T13:13:47.044135Z"
    },
    "papermill": {
     "duration": 0.023801,
     "end_time": "2021-10-11T13:24:35.791351",
     "exception": false,
     "start_time": "2021-10-11T13:24:35.767550",
     "status": "completed"
    },
    "tags": []
   },
   "outputs": [
    {
     "data": {
      "text/plain": [
       "(2290, 6)"
      ]
     },
     "execution_count": 5,
     "metadata": {},
     "output_type": "execute_result"
    }
   ],
   "source": [
    "emas.shape"
   ]
  },
  {
   "cell_type": "code",
   "execution_count": 6,
   "id": "73e4fa70",
   "metadata": {
    "execution": {
     "iopub.execute_input": "2021-10-11T13:24:35.844285Z",
     "iopub.status.busy": "2021-10-11T13:24:35.824192Z",
     "iopub.status.idle": "2021-10-11T13:24:35.847164Z",
     "shell.execute_reply": "2021-10-11T13:24:35.847893Z",
     "shell.execute_reply.started": "2021-10-11T13:13:47.058119Z"
    },
    "papermill": {
     "duration": 0.041575,
     "end_time": "2021-10-11T13:24:35.848106",
     "exception": false,
     "start_time": "2021-10-11T13:24:35.806531",
     "status": "completed"
    },
    "tags": []
   },
   "outputs": [
    {
     "name": "stdout",
     "output_type": "stream",
     "text": [
      "<class 'pandas.core.frame.DataFrame'>\n",
      "RangeIndex: 2290 entries, 0 to 2289\n",
      "Data columns (total 6 columns):\n",
      " #   Column   Non-Null Count  Dtype  \n",
      "---  ------   --------------  -----  \n",
      " 0   Date     2290 non-null   object \n",
      " 1   SPX      2290 non-null   float64\n",
      " 2   GLD      2290 non-null   float64\n",
      " 3   USO      2290 non-null   float64\n",
      " 4   SLV      2290 non-null   float64\n",
      " 5   EUR/USD  2290 non-null   float64\n",
      "dtypes: float64(5), object(1)\n",
      "memory usage: 107.5+ KB\n"
     ]
    }
   ],
   "source": [
    "emas.info()"
   ]
  },
  {
   "cell_type": "code",
   "execution_count": 7,
   "id": "a5efce71",
   "metadata": {
    "execution": {
     "iopub.execute_input": "2021-10-11T13:24:35.885185Z",
     "iopub.status.busy": "2021-10-11T13:24:35.884250Z",
     "iopub.status.idle": "2021-10-11T13:24:35.892663Z",
     "shell.execute_reply": "2021-10-11T13:24:35.892219Z",
     "shell.execute_reply.started": "2021-10-11T13:13:47.086005Z"
    },
    "papermill": {
     "duration": 0.027239,
     "end_time": "2021-10-11T13:24:35.892812",
     "exception": false,
     "start_time": "2021-10-11T13:24:35.865573",
     "status": "completed"
    },
    "tags": []
   },
   "outputs": [
    {
     "data": {
      "text/plain": [
       "Date       0\n",
       "SPX        0\n",
       "GLD        0\n",
       "USO        0\n",
       "SLV        0\n",
       "EUR/USD    0\n",
       "dtype: int64"
      ]
     },
     "execution_count": 7,
     "metadata": {},
     "output_type": "execute_result"
    }
   ],
   "source": [
    "emas.isnull().sum()"
   ]
  },
  {
   "cell_type": "code",
   "execution_count": 8,
   "id": "6e7c0912",
   "metadata": {
    "execution": {
     "iopub.execute_input": "2021-10-11T13:24:35.928275Z",
     "iopub.status.busy": "2021-10-11T13:24:35.927667Z",
     "iopub.status.idle": "2021-10-11T13:24:35.951265Z",
     "shell.execute_reply": "2021-10-11T13:24:35.950759Z",
     "shell.execute_reply.started": "2021-10-11T13:13:47.094894Z"
    },
    "papermill": {
     "duration": 0.043029,
     "end_time": "2021-10-11T13:24:35.951399",
     "exception": false,
     "start_time": "2021-10-11T13:24:35.908370",
     "status": "completed"
    },
    "tags": []
   },
   "outputs": [
    {
     "data": {
      "text/html": [
       "<div>\n",
       "<style scoped>\n",
       "    .dataframe tbody tr th:only-of-type {\n",
       "        vertical-align: middle;\n",
       "    }\n",
       "\n",
       "    .dataframe tbody tr th {\n",
       "        vertical-align: top;\n",
       "    }\n",
       "\n",
       "    .dataframe thead th {\n",
       "        text-align: right;\n",
       "    }\n",
       "</style>\n",
       "<table border=\"1\" class=\"dataframe\">\n",
       "  <thead>\n",
       "    <tr style=\"text-align: right;\">\n",
       "      <th></th>\n",
       "      <th>SPX</th>\n",
       "      <th>GLD</th>\n",
       "      <th>USO</th>\n",
       "      <th>SLV</th>\n",
       "      <th>EUR/USD</th>\n",
       "    </tr>\n",
       "  </thead>\n",
       "  <tbody>\n",
       "    <tr>\n",
       "      <th>count</th>\n",
       "      <td>2290.000000</td>\n",
       "      <td>2290.000000</td>\n",
       "      <td>2290.000000</td>\n",
       "      <td>2290.000000</td>\n",
       "      <td>2290.000000</td>\n",
       "    </tr>\n",
       "    <tr>\n",
       "      <th>mean</th>\n",
       "      <td>1654.315776</td>\n",
       "      <td>122.732875</td>\n",
       "      <td>31.842221</td>\n",
       "      <td>20.084997</td>\n",
       "      <td>1.283653</td>\n",
       "    </tr>\n",
       "    <tr>\n",
       "      <th>std</th>\n",
       "      <td>519.111540</td>\n",
       "      <td>23.283346</td>\n",
       "      <td>19.523517</td>\n",
       "      <td>7.092566</td>\n",
       "      <td>0.131547</td>\n",
       "    </tr>\n",
       "    <tr>\n",
       "      <th>min</th>\n",
       "      <td>676.530029</td>\n",
       "      <td>70.000000</td>\n",
       "      <td>7.960000</td>\n",
       "      <td>8.850000</td>\n",
       "      <td>1.039047</td>\n",
       "    </tr>\n",
       "    <tr>\n",
       "      <th>25%</th>\n",
       "      <td>1239.874969</td>\n",
       "      <td>109.725000</td>\n",
       "      <td>14.380000</td>\n",
       "      <td>15.570000</td>\n",
       "      <td>1.171313</td>\n",
       "    </tr>\n",
       "    <tr>\n",
       "      <th>50%</th>\n",
       "      <td>1551.434998</td>\n",
       "      <td>120.580002</td>\n",
       "      <td>33.869999</td>\n",
       "      <td>17.268500</td>\n",
       "      <td>1.303297</td>\n",
       "    </tr>\n",
       "    <tr>\n",
       "      <th>75%</th>\n",
       "      <td>2073.010070</td>\n",
       "      <td>132.840004</td>\n",
       "      <td>37.827501</td>\n",
       "      <td>22.882499</td>\n",
       "      <td>1.369971</td>\n",
       "    </tr>\n",
       "    <tr>\n",
       "      <th>max</th>\n",
       "      <td>2872.870117</td>\n",
       "      <td>184.589996</td>\n",
       "      <td>117.480003</td>\n",
       "      <td>47.259998</td>\n",
       "      <td>1.598798</td>\n",
       "    </tr>\n",
       "  </tbody>\n",
       "</table>\n",
       "</div>"
      ],
      "text/plain": [
       "               SPX          GLD          USO          SLV      EUR/USD\n",
       "count  2290.000000  2290.000000  2290.000000  2290.000000  2290.000000\n",
       "mean   1654.315776   122.732875    31.842221    20.084997     1.283653\n",
       "std     519.111540    23.283346    19.523517     7.092566     0.131547\n",
       "min     676.530029    70.000000     7.960000     8.850000     1.039047\n",
       "25%    1239.874969   109.725000    14.380000    15.570000     1.171313\n",
       "50%    1551.434998   120.580002    33.869999    17.268500     1.303297\n",
       "75%    2073.010070   132.840004    37.827501    22.882499     1.369971\n",
       "max    2872.870117   184.589996   117.480003    47.259998     1.598798"
      ]
     },
     "execution_count": 8,
     "metadata": {},
     "output_type": "execute_result"
    }
   ],
   "source": [
    "emas.describe()"
   ]
  },
  {
   "cell_type": "code",
   "execution_count": 9,
   "id": "3eaace0d",
   "metadata": {
    "execution": {
     "iopub.execute_input": "2021-10-11T13:24:35.988454Z",
     "iopub.status.busy": "2021-10-11T13:24:35.987847Z",
     "iopub.status.idle": "2021-10-11T13:24:35.993597Z",
     "shell.execute_reply": "2021-10-11T13:24:35.993140Z",
     "shell.execute_reply.started": "2021-10-11T13:13:47.133324Z"
    },
    "papermill": {
     "duration": 0.026469,
     "end_time": "2021-10-11T13:24:35.993735",
     "exception": false,
     "start_time": "2021-10-11T13:24:35.967266",
     "status": "completed"
    },
    "tags": []
   },
   "outputs": [],
   "source": [
    "correlation = emas.corr()"
   ]
  },
  {
   "cell_type": "code",
   "execution_count": 10,
   "id": "f19104c5",
   "metadata": {
    "execution": {
     "iopub.execute_input": "2021-10-11T13:24:36.030786Z",
     "iopub.status.busy": "2021-10-11T13:24:36.029524Z",
     "iopub.status.idle": "2021-10-11T13:24:36.456218Z",
     "shell.execute_reply": "2021-10-11T13:24:36.456661Z",
     "shell.execute_reply.started": "2021-10-11T13:13:47.143628Z"
    },
    "papermill": {
     "duration": 0.447287,
     "end_time": "2021-10-11T13:24:36.456859",
     "exception": false,
     "start_time": "2021-10-11T13:24:36.009572",
     "status": "completed"
    },
    "tags": []
   },
   "outputs": [
    {
     "data": {
      "text/plain": [
       "<AxesSubplot:>"
      ]
     },
     "execution_count": 10,
     "metadata": {},
     "output_type": "execute_result"
    },
    {
     "data": {
      "image/png": "[encoded data removed]",
      "text/plain": [
       "<Figure size 576x576 with 2 Axes>"
      ]
     },
     "metadata": {
      "needs_background": "light"
     },
     "output_type": "display_data"
    }
   ],
   "source": [
    "plt.figure(figsize = (8,8))\n",
    "sns.heatmap(correlation, cbar=True, square=True, fmt='.1f',annot=True, annot_kws={'size':8}, cmap='Blues')"
   ]
  },
  {
   "cell_type": "code",
   "execution_count": 11,
   "id": "68b083be",
   "metadata": {
    "execution": {
     "iopub.execute_input": "2021-10-11T13:24:36.501399Z",
     "iopub.status.busy": "2021-10-11T13:24:36.500482Z",
     "iopub.status.idle": "2021-10-11T13:24:36.504689Z",
     "shell.execute_reply": "2021-10-11T13:24:36.505537Z",
     "shell.execute_reply.started": "2021-10-11T13:13:47.507487Z"
    },
    "papermill": {
     "duration": 0.029675,
     "end_time": "2021-10-11T13:24:36.505785",
     "exception": false,
     "start_time": "2021-10-11T13:24:36.476110",
     "status": "completed"
    },
    "tags": []
   },
   "outputs": [
    {
     "name": "stdout",
     "output_type": "stream",
     "text": [
      "SPX        0.049345\n",
      "GLD        1.000000\n",
      "USO       -0.186360\n",
      "SLV        0.866632\n",
      "EUR/USD   -0.024375\n",
      "Name: GLD, dtype: float64\n"
     ]
    }
   ],
   "source": [
    "print(correlation['GLD'])"
   ]
  },
  {
   "cell_type": "code",
   "execution_count": 12,
   "id": "ac99e279",
   "metadata": {
    "execution": {
     "iopub.execute_input": "2021-10-11T13:24:36.548759Z",
     "iopub.status.busy": "2021-10-11T13:24:36.548117Z",
     "iopub.status.idle": "2021-10-11T13:24:37.017538Z",
     "shell.execute_reply": "2021-10-11T13:24:37.017973Z",
     "shell.execute_reply.started": "2021-10-11T13:21:30.868355Z"
    },
    "papermill": {
     "duration": 0.493604,
     "end_time": "2021-10-11T13:24:37.018155",
     "exception": false,
     "start_time": "2021-10-11T13:24:36.524551",
     "status": "completed"
    },
    "tags": []
   },
   "outputs": [
    {
     "name": "stderr",
     "output_type": "stream",
     "text": [
      "/opt/conda/lib/python3.7/site-packages/seaborn/distributions.py:2619: FutureWarning: `distplot` is a deprecated function and will be removed in a future version. Please adapt your code to use either `displot` (a figure-level function with similar flexibility) or `histplot` (an axes-level function for histograms).\n",
      "  warnings.warn(msg, FutureWarning)\n"
     ]
    },
    {
     "data": {
      "text/plain": [
       "<AxesSubplot:xlabel='GLD', ylabel='Density'>"
      ]
     },
     "execution_count": 12,
     "metadata": {},
     "output_type": "execute_result"
    },
    {
     "data": {
      "image/png": "[encoded data removed]",
      "text/plain": [
       "<Figure size 432x288 with 1 Axes>"
      ]
     },
     "metadata": {
      "needs_background": "light"
     },
     "output_type": "display_data"
    }
   ],
   "source": [
    "sns.distplot(emas['GLD'],color='green')"
   ]
  },
  {
   "cell_type": "code",
   "execution_count": 13,
   "id": "50f38729",
   "metadata": {
    "execution": {
     "iopub.execute_input": "2021-10-11T13:24:37.061415Z",
     "iopub.status.busy": "2021-10-11T13:24:37.060794Z",
     "iopub.status.idle": "2021-10-11T13:24:37.069686Z",
     "shell.execute_reply": "2021-10-11T13:24:37.069188Z",
     "shell.execute_reply.started": "2021-10-11T13:13:47.980504Z"
    },
    "papermill": {
     "duration": 0.032919,
     "end_time": "2021-10-11T13:24:37.069871",
     "exception": false,
     "start_time": "2021-10-11T13:24:37.036952",
     "status": "completed"
    },
    "tags": []
   },
   "outputs": [
    {
     "name": "stdout",
     "output_type": "stream",
     "text": [
      "              SPX        USO      SLV   EUR/USD\n",
      "0     1447.160034  78.470001  15.1800  1.471692\n",
      "1     1447.160034  78.370003  15.2850  1.474491\n",
      "2     1411.630005  77.309998  15.1670  1.475492\n",
      "3     1416.180054  75.500000  15.0530  1.468299\n",
      "4     1390.189941  76.059998  15.5900  1.557099\n",
      "...           ...        ...      ...       ...\n",
      "2285  2671.919922  14.060000  15.5100  1.186789\n",
      "2286  2697.790039  14.370000  15.5300  1.184722\n",
      "2287  2723.070068  14.410000  15.7400  1.191753\n",
      "2288  2730.129883  14.380000  15.5600  1.193118\n",
      "2289  2725.780029  14.405800  15.4542  1.182033\n",
      "\n",
      "[2290 rows x 4 columns]\n"
     ]
    }
   ],
   "source": [
    "X = emas.drop(['Date','GLD'],axis=1)\n",
    "Y = emas['GLD']\n",
    "print(X)"
   ]
  },
  {
   "cell_type": "code",
   "execution_count": 14,
   "id": "55bc1cd5",
   "metadata": {
    "execution": {
     "iopub.execute_input": "2021-10-11T13:24:37.115702Z",
     "iopub.status.busy": "2021-10-11T13:24:37.114814Z",
     "iopub.status.idle": "2021-10-11T13:24:37.118249Z",
     "shell.execute_reply": "2021-10-11T13:24:37.118698Z",
     "shell.execute_reply.started": "2021-10-11T13:13:47.993298Z"
    },
    "papermill": {
     "duration": 0.029449,
     "end_time": "2021-10-11T13:24:37.118876",
     "exception": false,
     "start_time": "2021-10-11T13:24:37.089427",
     "status": "completed"
    },
    "tags": []
   },
   "outputs": [
    {
     "name": "stdout",
     "output_type": "stream",
     "text": [
      "0        84.860001\n",
      "1        85.570000\n",
      "2        85.129997\n",
      "3        84.769997\n",
      "4        86.779999\n",
      "           ...    \n",
      "2285    124.589996\n",
      "2286    124.330002\n",
      "2287    125.180000\n",
      "2288    124.489998\n",
      "2289    122.543800\n",
      "Name: GLD, Length: 2290, dtype: float64\n"
     ]
    }
   ],
   "source": [
    "print(Y)"
   ]
  },
  {
   "cell_type": "code",
   "execution_count": 15,
   "id": "9fcd1ae6",
   "metadata": {
    "execution": {
     "iopub.execute_input": "2021-10-11T13:24:37.164003Z",
     "iopub.status.busy": "2021-10-11T13:24:37.163320Z",
     "iopub.status.idle": "2021-10-11T13:24:37.169546Z",
     "shell.execute_reply": "2021-10-11T13:24:37.169081Z",
     "shell.execute_reply.started": "2021-10-11T13:13:48.006312Z"
    },
    "papermill": {
     "duration": 0.030415,
     "end_time": "2021-10-11T13:24:37.169697",
     "exception": false,
     "start_time": "2021-10-11T13:24:37.139282",
     "status": "completed"
    },
    "tags": []
   },
   "outputs": [],
   "source": [
    "X_train, X_test, Y_train, Y_test = train_test_split(X, Y, test_size = 0.2, random_state=2)"
   ]
  },
  {
   "cell_type": "code",
   "execution_count": 16,
   "id": "f3397d80",
   "metadata": {
    "execution": {
     "iopub.execute_input": "2021-10-11T13:24:37.212807Z",
     "iopub.status.busy": "2021-10-11T13:24:37.211188Z",
     "iopub.status.idle": "2021-10-11T13:24:37.216202Z",
     "shell.execute_reply": "2021-10-11T13:24:37.215596Z",
     "shell.execute_reply.started": "2021-10-11T13:13:48.023671Z"
    },
    "papermill": {
     "duration": 0.027344,
     "end_time": "2021-10-11T13:24:37.216357",
     "exception": false,
     "start_time": "2021-10-11T13:24:37.189013",
     "status": "completed"
    },
    "tags": []
   },
   "outputs": [],
   "source": [
    "regressor = RandomForestRegressor(n_estimators=100)"
   ]
  },
  {
   "cell_type": "code",
   "execution_count": 17,
   "id": "c0237d15",
   "metadata": {
    "execution": {
     "iopub.execute_input": "2021-10-11T13:24:37.302260Z",
     "iopub.status.busy": "2021-10-11T13:24:37.296805Z",
     "iopub.status.idle": "2021-10-11T13:24:37.886481Z",
     "shell.execute_reply": "2021-10-11T13:24:37.886028Z",
     "shell.execute_reply.started": "2021-10-11T13:13:48.033953Z"
    },
    "papermill": {
     "duration": 0.650994,
     "end_time": "2021-10-11T13:24:37.886614",
     "exception": false,
     "start_time": "2021-10-11T13:24:37.235620",
     "status": "completed"
    },
    "tags": []
   },
   "outputs": [
    {
     "data": {
      "text/plain": [
       "RandomForestRegressor()"
      ]
     },
     "execution_count": 17,
     "metadata": {},
     "output_type": "execute_result"
    }
   ],
   "source": [
    "regressor.fit(X_train,Y_train)"
   ]
  },
  {
   "cell_type": "code",
   "execution_count": 18,
   "id": "af2eed97",
   "metadata": {
    "execution": {
     "iopub.execute_input": "2021-10-11T13:24:37.928752Z",
     "iopub.status.busy": "2021-10-11T13:24:37.928173Z",
     "iopub.status.idle": "2021-10-11T13:24:37.955430Z",
     "shell.execute_reply": "2021-10-11T13:24:37.955910Z",
     "shell.execute_reply.started": "2021-10-11T13:13:48.721887Z"
    },
    "papermill": {
     "duration": 0.050199,
     "end_time": "2021-10-11T13:24:37.956095",
     "exception": false,
     "start_time": "2021-10-11T13:24:37.905896",
     "status": "completed"
    },
    "tags": []
   },
   "outputs": [
    {
     "name": "stdout",
     "output_type": "stream",
     "text": [
      "[168.49239904  82.54119964 116.20270013 127.54830073 120.89110145\n",
      " 154.62379728 149.85559838 126.1614003  117.57719872 126.06480019\n",
      " 116.68520068 171.70810042 141.38339894 167.89229825 115.16639985\n",
      " 117.64050051 140.36340257 170.05420035 159.72590324 158.0258992\n",
      " 155.25410044 125.28670023 177.14350002 157.70450336 125.19330054\n",
      "  93.79199989  78.48639959 120.48010033 119.14119961 167.54060007\n",
      "  88.13150082 125.10009988  91.10230075 117.75860038 121.04239946\n",
      " 136.1712003  115.43190126 115.01390065 147.05529904 107.39100101\n",
      " 104.71540258  87.20409791 126.59320074 117.82050047 153.80039951\n",
      " 119.62749979 108.28520039 107.87379835  93.12500068 127.26829769\n",
      "  74.88870066 113.76819936 121.27050019 111.18929904 118.85329888\n",
      " 120.64519904 159.91980019 167.3434013  146.95229738  85.89829864\n",
      "  94.3556004   86.80639899  90.7511     118.78930114 126.46490087\n",
      " 127.49669993 169.17119978 122.18569904 117.2816988   98.46280056\n",
      " 168.37980076 143.36079825 132.22790322 121.08910224 121.29699942\n",
      " 120.0309008  114.57250187 118.32870085 107.3495011  127.89770049\n",
      " 113.92479973 107.00199966 116.66710064 119.62709914  88.9405005\n",
      "  88.2794988  146.52930267 127.49340057 113.00650052 110.36719805\n",
      " 107.9893991   78.08529869 169.73940244 114.16739936 121.56039932\n",
      " 127.94920149 154.84419801  91.83099964 134.97000105 159.14490378\n",
      " 125.6807004  125.56850051 130.64410173 114.8258013  119.72190008\n",
      "  92.19600009 110.21199879 166.69819927 157.56699952 114.22199974\n",
      " 106.74160099  80.08899949 113.34360029 125.86490079 107.05929932\n",
      " 119.24400063 155.08870302 159.52089852 120.30220001 135.07920236\n",
      " 101.17690001 117.58719795 119.1497     112.87300087 102.78859914\n",
      " 160.14069749  99.2634004  148.53349874 125.86380097 170.07069876\n",
      " 125.50339913 127.34949785 127.44390149 113.81369917 112.63590049\n",
      " 123.47939918 102.33169917  89.3437998  124.64009965 101.94949902\n",
      " 107.10599882 113.73900047 117.44910051  99.38689968 121.72850068\n",
      " 163.1815989   87.50369881 106.59479985 116.97810118 127.74310118\n",
      " 124.10410058  80.74299958 120.44990041 158.86699765  87.9975997\n",
      " 110.30859917 118.70299927 172.2318987  103.11119888 105.76680044\n",
      " 122.49350043 159.32239725  87.42209848  93.01900037 112.74120005\n",
      " 177.58080041 114.58179979 119.14980009  94.57110093 125.72680026\n",
      " 166.35640056 114.78770073 116.67090149  88.34159883 149.11060122\n",
      " 120.34799962  89.51920005 112.49449998 117.37130044 118.7130012\n",
      "  88.17479934  94.11820009 117.0746001  118.38570185 120.40840044\n",
      " 126.77299778 121.93219965 150.33860013 165.61990081 118.56379949\n",
      " 120.43060123 150.89000105 118.29329939 172.86619892 105.86949918\n",
      " 105.00640097 149.61920136 113.9253007  124.75660143 147.09019963\n",
      " 119.63220139 115.37940049 112.79119997 113.38390223 141.64960122\n",
      " 117.93539756 102.92470065 115.85670149 104.18610215  99.07890062\n",
      " 117.42810041  90.59610021  91.65810019 153.7098986  102.82919986\n",
      " 154.54880091 114.37840153 138.86450071  90.20819845 115.46229905\n",
      " 114.46469971 122.83910008 121.87320011 165.50710141  92.94649969\n",
      " 135.75780152 121.33699913 120.75030071 104.77130018 142.80400261\n",
      " 121.29949893 116.68080043 113.41490074 127.11759776 122.63089958\n",
      " 125.75179955 121.19530044  86.87589897 132.71920214 145.32890212\n",
      "  92.82309962 159.78199991 159.07660286 126.20619907 165.11479933\n",
      " 108.93019924 109.76960077 103.83799843  94.54770044 127.9728031\n",
      " 107.27270012 161.88370001 121.66900036 131.83490016 130.61880159\n",
      " 160.86309936  90.06749892 176.25270196 127.82220048 126.64469821\n",
      "  86.61599972 124.48559877 150.04669749  89.61200011 106.87299997\n",
      " 108.96609953  84.21589917 135.83280007 154.87770259 140.24200368\n",
      "  73.86440026 152.58350149 125.98609997 126.74590027 127.45209923\n",
      " 108.72639952 156.78630072 114.55930127 116.8875016  125.47499905\n",
      " 154.10730161 121.40229996 156.41469882  92.89020068 125.52330157\n",
      " 125.77660016  87.81330056  92.03699944 126.20409925 128.08100307\n",
      " 113.03130038 117.63129732 120.90800011 127.06639838 119.64470123\n",
      " 136.21820081  93.97459958 119.92840026 113.393901    94.23149931\n",
      " 108.87639929  87.14339946 109.31459925  89.66069988  92.54780028\n",
      " 131.45060288 162.26079983  89.24970003 119.61270086 133.45380145\n",
      " 123.60360019 128.01770146 102.07489865  88.9878993  131.91700106\n",
      " 119.6005003  108.42700002 167.35240144 115.28650052  86.57869899\n",
      " 118.75940056  91.06869968 161.93680047 116.34250032 121.54430003\n",
      " 159.85929819 120.07989938 112.79299914 108.45489847 126.84929977\n",
      "  76.25820025 102.96929984 127.85210258 121.78069908  92.64860034\n",
      " 132.03870056 118.23160105 116.03249967 154.44700308 159.56820098\n",
      " 110.04669937 152.87229806 119.21610083 160.4122003  118.62889995\n",
      " 157.52970011 115.12359907 116.5459003  148.60049853 114.73800088\n",
      " 125.67879876 164.99909993 117.66540038 125.14339932 153.27070328\n",
      " 153.49110241 131.95020138 114.70730064 121.26330239 125.00370048\n",
      "  89.75610014 123.51319958 155.39330262 111.84520041 106.57099992\n",
      " 160.55360079 118.72899989 165.58600032 134.2485012  114.88219935\n",
      " 152.945399   168.50849946 115.14770022 114.07960132 159.50209855\n",
      "  85.52359864 126.93610052 127.85470087 128.96190051 124.11970089\n",
      " 123.73100024  90.42620047 153.28490028  97.01219983 137.7265999\n",
      "  89.0410995  107.02929983 114.95960041 112.58570068 124.60029931\n",
      "  91.38339883 125.36290074 162.36879897 120.05739866 165.49430069\n",
      " 126.7500979  112.4293999  127.48189908  94.99699909  91.01959973\n",
      " 103.54129911 120.93290002  83.37959968 126.35369973 160.60080422\n",
      " 117.25150105 118.26409983 120.16660034 122.77089971 119.99550116\n",
      " 121.45089983 118.08700048 107.16599972 148.21280011 126.2468988\n",
      " 115.72280077  73.83510003 127.77710125 153.78310112 122.87730002\n",
      " 125.7109009   88.87210038 103.78549876 124.54440024 120.18870013\n",
      "  73.18470074 151.95230008 121.0713004  104.77370008  86.64309792\n",
      " 115.22049933 172.2282982  120.0162002  159.28869755 113.15709948\n",
      " 121.31620034 118.6072011   95.89049971 118.55630021 125.6470002\n",
      " 118.36159987  96.05160065 154.03850185 121.90050031 147.4930992\n",
      " 159.59230289 113.82810018 122.5920992  149.1612978  127.28190022\n",
      " 166.1409006  135.66479997 119.97499943 167.30079842 108.20059977\n",
      " 121.82769851 139.93640106 107.32309898]\n"
     ]
    }
   ],
   "source": [
    "test_data_prediction = regressor.predict(X_test)\n",
    "print(test_data_prediction)"
   ]
  },
  {
   "cell_type": "code",
   "execution_count": 19,
   "id": "d5c11d68",
   "metadata": {
    "execution": {
     "iopub.execute_input": "2021-10-11T13:24:38.000882Z",
     "iopub.status.busy": "2021-10-11T13:24:38.000263Z",
     "iopub.status.idle": "2021-10-11T13:24:38.002765Z",
     "shell.execute_reply": "2021-10-11T13:24:38.003242Z",
     "shell.execute_reply.started": "2021-10-11T13:13:48.754817Z"
    },
    "papermill": {
     "duration": 0.027513,
     "end_time": "2021-10-11T13:24:38.003401",
     "exception": false,
     "start_time": "2021-10-11T13:24:37.975888",
     "status": "completed"
    },
    "tags": []
   },
   "outputs": [
    {
     "name": "stdout",
     "output_type": "stream",
     "text": [
      "asasdasd : 0.9891807627097096\n"
     ]
    }
   ],
   "source": [
    "error_score = metrics.r2_score(Y_test, test_data_prediction)\n",
    "print(\"asasdasd :\", error_score)"
   ]
  },
  {
   "cell_type": "code",
   "execution_count": 20,
   "id": "e52d0386",
   "metadata": {
    "execution": {
     "iopub.execute_input": "2021-10-11T13:24:38.047629Z",
     "iopub.status.busy": "2021-10-11T13:24:38.047066Z",
     "iopub.status.idle": "2021-10-11T13:24:38.049827Z",
     "shell.execute_reply": "2021-10-11T13:24:38.049205Z",
     "shell.execute_reply.started": "2021-10-11T13:13:48.762788Z"
    },
    "papermill": {
     "duration": 0.026759,
     "end_time": "2021-10-11T13:24:38.049962",
     "exception": false,
     "start_time": "2021-10-11T13:24:38.023203",
     "status": "completed"
    },
    "tags": []
   },
   "outputs": [],
   "source": [
    "Y_test = list(Y_test)"
   ]
  },
  {
   "cell_type": "code",
   "execution_count": 21,
   "id": "6ea369ea",
   "metadata": {
    "execution": {
     "iopub.execute_input": "2021-10-11T13:24:38.100594Z",
     "iopub.status.busy": "2021-10-11T13:24:38.099147Z",
     "iopub.status.idle": "2021-10-11T13:24:38.275728Z",
     "shell.execute_reply": "2021-10-11T13:24:38.275212Z",
     "shell.execute_reply.started": "2021-10-11T13:13:48.774065Z"
    },
    "papermill": {
     "duration": 0.205932,
     "end_time": "2021-10-11T13:24:38.275882",
     "exception": false,
     "start_time": "2021-10-11T13:24:38.069950",
     "status": "completed"
    },
    "tags": []
   },
   "outputs": [
    {
     "data": {
      "image/png": "[encoded data removed]",
      "text/plain": [
       "<Figure size 432x288 with 1 Axes>"
      ]
     },
     "metadata": {
      "needs_background": "light"
     },
     "output_type": "display_data"
    }
   ],
   "source": [
    "plt.plot(Y_test, color=\"blue\", label=\"Actual Value\")\n",
    "plt.plot(test_data_prediction, color=\"green\", label=\"Predicted Value\")\n",
    "plt.title(\"Actual Price vs Predicted Price\")\n",
    "plt.xlabel(\"Number of values\")\n",
    "plt.ylabel(\"GLD Price\")\n",
    "plt.legend()\n",
    "plt.show()"
   ]
  },
  {
   "cell_type": "code",
   "execution_count": null,
   "id": "fdc06c1c",
   "metadata": {
    "papermill": {
     "duration": 0.022589,
     "end_time": "2021-10-11T13:24:38.320292",
     "exception": false,
     "start_time": "2021-10-11T13:24:38.297703",
     "status": "completed"
    },
    "tags": []
   },
   "outputs": [],
   "source": []
  }
 ],
 "metadata": {
  "kernelspec": {
   "display_name": "Python 3",
   "language": "python",
   "name": "python3"
  },
  "language_info": {
   "codemirror_mode": {
    "name": "ipython",
    "version": 3
   },
   "file_extension": ".py",
   "mimetype": "text/x-python",
   "name": "python",
   "nbconvert_exporter": "python",
   "pygments_lexer": "ipython3",
   "version": "3.7.10"
  },
  "papermill": {
   "default_parameters": {},
   "duration": 12.751107,
   "end_time": "2021-10-11T13:24:39.782431",
   "environment_variables": {},
   "exception": null,
   "input_path": "__notebook__.ipynb",
   "output_path": "__notebook__.ipynb",
   "parameters": {},
   "start_time": "2021-10-11T13:24:27.031324",
   "version": "2.3.3"
  }
 },
 "nbformat": 4,
 "nbformat_minor": 5
}
